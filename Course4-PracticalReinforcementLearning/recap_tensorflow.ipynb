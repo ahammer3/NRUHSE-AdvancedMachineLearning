{
 "cells": [
  {
   "cell_type": "markdown",
   "metadata": {
    "slideshow": {
     "slide_type": "-"
    }
   },
   "source": [
    "# Going deeper with Tensorflow\n",
    "\n",
    "In this seminar, we're going to play with [Tensorflow](https://www.tensorflow.org/) and see how it helps us build deep learning models.\n",
    "\n",
    "If you're running this notebook outside the course environment, you'll need to install tensorflow:\n",
    "* `pip install tensorflow` should install cpu-only TF on Linux & Mac OS\n",
    "* If you want GPU support from offset, see [TF install page](https://www.tensorflow.org/install/)"
   ]
  },
  {
   "cell_type": "code",
   "execution_count": 1,
   "metadata": {
    "collapsed": true
   },
   "outputs": [],
   "source": [
    "import tensorflow as tf\n",
    "gpu_options = tf.GPUOptions(allow_growth=True, per_process_gpu_memory_fraction=0.1)\n",
    "s = tf.InteractiveSession(config=tf.ConfigProto(gpu_options=gpu_options))"
   ]
  },
  {
   "cell_type": "markdown",
   "metadata": {},
   "source": [
    "# Warming up\n",
    "For starters, let's implement a python function that computes the sum of squares of numbers from 0 to N-1.\n",
    "* Use numpy or python\n",
    "* An array of numbers 0 to N - numpy.arange(N)"
   ]
  },
  {
   "cell_type": "code",
   "execution_count": 3,
   "metadata": {},
   "outputs": [],
   "source": [
    "import numpy as np\n",
    "def sum_squares(N):\n",
    "    return np.sum(np.arange(N)**2)"
   ]
  },
  {
   "cell_type": "code",
   "execution_count": 4,
   "metadata": {},
   "outputs": [
    {
     "name": "stdout",
     "output_type": "stream",
     "text": [
      "CPU times: user 395 ms, sys: 721 ms, total: 1.12 s\n",
      "Wall time: 1.12 s\n"
     ]
    },
    {
     "data": {
      "text/plain": [
       "662921401752298880"
      ]
     },
     "execution_count": 4,
     "metadata": {},
     "output_type": "execute_result"
    }
   ],
   "source": [
    "%%time\n",
    "sum_squares(10**8)"
   ]
  },
  {
   "cell_type": "markdown",
   "metadata": {},
   "source": [
    "# Tensorflow teaser\n",
    "\n",
    "Doing the very same thing"
   ]
  },
  {
   "cell_type": "code",
   "execution_count": 5,
   "metadata": {
    "collapsed": true
   },
   "outputs": [],
   "source": [
    "#I gonna be your function parameter\n",
    "N = tf.placeholder('int64', name=\"input_to_your_function\")\n",
    "\n",
    "#i am a recipe on how to produce sum of squares of arange of N given N\n",
    "result = tf.reduce_sum((tf.range(N)**2))"
   ]
  },
  {
   "cell_type": "code",
   "execution_count": 6,
   "metadata": {},
   "outputs": [
    {
     "name": "stdout",
     "output_type": "stream",
     "text": [
      "662921401752298880\n",
      "CPU times: user 498 ms, sys: 351 ms, total: 849 ms\n",
      "Wall time: 707 ms\n"
     ]
    }
   ],
   "source": [
    "%%time\n",
    "#example of computing the same as sum_squares\n",
    "print(result.eval({N:10**8}))"
   ]
  },
  {
   "cell_type": "markdown",
   "metadata": {},
   "source": [
    "# How does it work?\n",
    "1. define placeholders where you'll send inputs;\n",
    "2. make symbolic graph: a recipe for mathematical transformation of those placeholders;\n",
    "3. compute outputs of your graph with particular values for each placeholder\n",
    "  * output.eval({placeholder:value}) \n",
    "  * s.run(output, {placeholder:value})\n",
    "\n",
    "* So far there are two main entities: \"placeholder\" and \"transformation\"\n",
    "* Both can be numbers, vectors, matrices, tensors, etc.\n",
    "* Both can be int32/64, floats of booleans (uint8) of various size.\n",
    "\n",
    "* You can define new transformations as an arbitrary operation on placeholders and other transformations\n",
    " * tf.reduce_sum(tf.arange(N)\\**2) are 3 sequential transformations of placeholder N\n",
    " * There's a tensorflow symbolic version for every numpy function\n",
    "   * `a+b, a/b, a**b, ...` behave just like in numpy\n",
    "   * np.mean -> tf.reduce_mean\n",
    "   * np.arange -> tf.range\n",
    "   * np.cumsum -> tf.cumsum\n",
    "   * If if you can't find the op you need, see the [docs](https://www.tensorflow.org/api_docs/python).\n",
    " \n",
    " \n",
    "Still confused? We gonna fix that."
   ]
  },
  {
   "cell_type": "code",
   "execution_count": 7,
   "metadata": {
    "collapsed": true
   },
   "outputs": [],
   "source": [
    "#Default placeholder that can be arbitrary float32 scalar, vector, matrix, etc.\n",
    "arbitrary_input = tf.placeholder('float32')\n",
    "\n",
    "#Input vector of arbitrary length\n",
    "input_vector = tf.placeholder('float32',shape=(None,))\n",
    "\n",
    "#Input vector that _must_ have 10 elements and integer type\n",
    "fixed_vector = tf.placeholder('int32',shape=(10,))\n",
    "\n",
    "#Matrix of arbitrary n_rows and 15 columns (e.g. a minibatch your data table)\n",
    "input_matrix = tf.placeholder('float32',shape=(None,15))\n",
    "\n",
    "#You can generally use None whenever you don't need a specific shape\n",
    "input1 = tf.placeholder('float64',shape=(None,100,None))\n",
    "input2 = tf.placeholder('int32',shape=(None,None,3,224,224))"
   ]
  },
  {
   "cell_type": "code",
   "execution_count": 8,
   "metadata": {
    "collapsed": true
   },
   "outputs": [],
   "source": [
    "#elementwise multiplication\n",
    "double_the_vector = input_vector*2\n",
    "\n",
    "#elementwise cosine\n",
    "elementwise_cosine = tf.cos(input_vector)\n",
    "\n",
    "#difference between squared vector and vector itself\n",
    "vector_squares = input_vector**2 - input_vector\n"
   ]
  },
  {
   "cell_type": "code",
   "execution_count": 10,
   "metadata": {},
   "outputs": [],
   "source": [
    "#Practice time: create two vectors of type float32\n",
    "my_vector = tf.placeholder('float32',shape=(None,))\n",
    "my_vector2 = tf.placeholder('float32',shape=(None,))"
   ]
  },
  {
   "cell_type": "code",
   "execution_count": 12,
   "metadata": {},
   "outputs": [],
   "source": [
    "#Write a transformation(recipe):\n",
    "#(vec1)*(vec2) / (sin(vec1) +1)\n",
    "my_transformation = my_vector * my_vector2 / (tf.sin(my_vector) + 1)"
   ]
  },
  {
   "cell_type": "code",
   "execution_count": 13,
   "metadata": {},
   "outputs": [
    {
     "name": "stdout",
     "output_type": "stream",
     "text": [
      "Tensor(\"truediv:0\", shape=(?,), dtype=float32)\n"
     ]
    }
   ],
   "source": [
    "print(my_transformation)\n",
    "#it's okay, it's a symbolic graph"
   ]
  },
  {
   "cell_type": "code",
   "execution_count": 14,
   "metadata": {},
   "outputs": [
    {
     "data": {
      "text/plain": [
       "array([0.       , 1.6291324, 2.0950115, 2.6289961, 0.       ],\n",
       "      dtype=float32)"
      ]
     },
     "execution_count": 14,
     "metadata": {},
     "output_type": "execute_result"
    }
   ],
   "source": [
    "#\n",
    "dummy = np.arange(5).astype('float32')\n",
    "\n",
    "my_transformation.eval({my_vector:dummy,my_vector2:dummy[::-1]})"
   ]
  },
  {
   "cell_type": "markdown",
   "metadata": {},
   "source": [
    "### Visualizing graphs\n",
    "\n",
    "It's often useful to visualize the computation graph when debugging or optimizing. \n",
    "Interactive visualization is where tensorflow really shines as compared to other frameworks. \n",
    "\n",
    "There's a special instrument for that, called Tensorboard. You can launch it from console:\n",
    "\n",
    "```tensorboard --logdir=/tmp/tboard --port=7007```\n",
    "\n",
    "If you're pathologically afraid of consoles, try this:\n",
    "\n",
    "```os.system(\"tensorboard --logdir=/tmp/tboard --port=7007 &\"```\n",
    "\n",
    "_(but don't tell anyone we taught you that)_"
   ]
  },
  {
   "cell_type": "code",
   "execution_count": 15,
   "metadata": {},
   "outputs": [
    {
     "name": "stdout",
     "output_type": "stream",
     "text": [
      "Port: 7000\n"
     ]
    }
   ],
   "source": [
    "# launch tensorflow the ugly way, uncomment if you need that\n",
    "import os\n",
    "port = 6000 + os.getuid()\n",
    "print(\"Port: %d\" % port)\n",
    "#!killall tensorboard\n",
    "os.system(\"tensorboard --logdir=./tboard --port=%d &\" % port)\n",
    "\n",
    "# show graph to tensorboard\n",
    "writer = tf.summary.FileWriter(\"./tboard\", graph=tf.get_default_graph())\n",
    "writer.close()"
   ]
  },
  {
   "cell_type": "markdown",
   "metadata": {},
   "source": [
    "One basic functionality of tensorboard is drawing graphs. Once you've run the cell above, go to `localhost:7007` in your browser and switch to _graphs_ tab in the topbar. \n",
    "\n",
    "Here's what you should see:\n",
    "\n",
    "<img src=\"https://s12.postimg.org/a374bmffx/tensorboard.png\" width=480>\n",
    "\n",
    "Tensorboard also allows you to draw graphs (e.g. learning curves), record images & audio ~~and play flash games~~. This is useful when monitoring learning progress and catching some training issues.\n",
    "\n",
    "One researcher said:\n",
    "```\n",
    "If you spent last four hours of your worktime watching as your algorithm prints numbers and draws figures, you're probably doing deep learning wrong.\n",
    "```"
   ]
  },
  {
   "cell_type": "markdown",
   "metadata": {},
   "source": [
    "You can read more on tensorboard usage [here](https://www.tensorflow.org/get_started/graph_viz)"
   ]
  },
  {
   "cell_type": "markdown",
   "metadata": {},
   "source": [
    "# Do It Yourself\n",
    "\n",
    "__[2 points max]__"
   ]
  },
  {
   "cell_type": "code",
   "execution_count": 16,
   "metadata": {},
   "outputs": [
    {
     "name": "stderr",
     "output_type": "stream",
     "text": [
      "WARNING: Logging before flag parsing goes to stderr.\n",
      "W0822 14:44:27.245370 140182036207360 deprecation.py:323] From <ipython-input-16-0606330b6a64>:7: to_float (from tensorflow.python.ops.math_ops) is deprecated and will be removed in a future version.\n",
      "Instructions for updating:\n",
      "Use `tf.cast` instead.\n"
     ]
    },
    {
     "name": "stdout",
     "output_type": "stream",
     "text": [
      "Tensor(\"truediv_1:0\", shape=(), dtype=float32)\n",
      "8.0\n"
     ]
    }
   ],
   "source": [
    "# Quest #1 - implement a function that computes a mean squared error of two input vectors\n",
    "# Your function has to take 2 vectors and return a single number\n",
    "\n",
    "vec1 = tf.placeholder('float32',shape=(None,))\n",
    "vec2 = tf.placeholder('float32',shape=(None,))\n",
    "\n",
    "mse = tf.reduce_sum((vec1-vec2)**2) / tf.to_float(tf.size(vec1))\n",
    "print(mse)\n",
    "\n",
    "dummy = np.arange(5).astype('float32')\n",
    "\n",
    "print(mse.eval({vec1:dummy, vec2:dummy[::-1]}))\n",
    "\n",
    "compute_mse = lambda vector1, vector2: mse.eval({vec1:vector1, vec2:vector2})"
   ]
  },
  {
   "cell_type": "code",
   "execution_count": 17,
   "metadata": {},
   "outputs": [
    {
     "name": "stdout",
     "output_type": "stream",
     "text": [
      "All tests passed\n"
     ]
    }
   ],
   "source": [
    "# Tests\n",
    "from sklearn.metrics import mean_squared_error\n",
    "\n",
    "for n in [1,5,10,10**3]:\n",
    "    \n",
    "    elems = [np.arange(n),np.arange(n,0,-1), np.zeros(n),\n",
    "             np.ones(n),np.random.random(n),np.random.randint(100,size=n)]\n",
    "    \n",
    "    for el in elems:\n",
    "        for el_2 in elems:\n",
    "            true_mse = np.array(mean_squared_error(el,el_2))\n",
    "            my_mse = compute_mse(el,el_2)\n",
    "            if not np.allclose(true_mse,my_mse):\n",
    "                print('Wrong result:')\n",
    "                print('mse(%s,%s)' % (el,el_2))\n",
    "                print(\"should be: %f, but your function returned %f\" % (true_mse,my_mse))\n",
    "                raise ValueError(\"Что-то не так\")\n",
    "\n",
    "print(\"All tests passed\")    "
   ]
  },
  {
   "cell_type": "markdown",
   "metadata": {},
   "source": [
    "# variables\n",
    "\n",
    "The inputs and transformations have no value outside function call. This isn't too comfortable if you want your model to have parameters (e.g. network weights) that are always present, but can change their value over time.\n",
    "\n",
    "Tensorflow solves this with `tf.Variable` objects.\n",
    "* You can assign variable a value at any time in your graph\n",
    "* Unlike placeholders, there's no need to explicitly pass values to variables when `s.run(...)`-ing\n",
    "* You can use variables the same way you use transformations \n",
    " "
   ]
  },
  {
   "cell_type": "code",
   "execution_count": 18,
   "metadata": {
    "collapsed": true
   },
   "outputs": [],
   "source": [
    "#creating shared variable\n",
    "shared_vector_1 = tf.Variable(initial_value=np.ones(5))"
   ]
  },
  {
   "cell_type": "code",
   "execution_count": 19,
   "metadata": {},
   "outputs": [
    {
     "name": "stdout",
     "output_type": "stream",
     "text": [
      "initial value [1. 1. 1. 1. 1.]\n"
     ]
    }
   ],
   "source": [
    "#initialize variable(s) with initial values\n",
    "s.run(tf.global_variables_initializer())\n",
    "\n",
    "#evaluating shared variable (outside symbolic graph)\n",
    "print(\"initial value\", s.run(shared_vector_1))\n",
    "\n",
    "# within symbolic graph you use them just as any other inout or transformation, not \"get value\" needed"
   ]
  },
  {
   "cell_type": "code",
   "execution_count": 20,
   "metadata": {},
   "outputs": [
    {
     "name": "stdout",
     "output_type": "stream",
     "text": [
      "new value [0. 1. 2. 3. 4.]\n"
     ]
    }
   ],
   "source": [
    "#setting new value\n",
    "s.run(shared_vector_1.assign(np.arange(5)))\n",
    "\n",
    "#getting that new value\n",
    "print(\"new value\", s.run(shared_vector_1))\n"
   ]
  },
  {
   "cell_type": "markdown",
   "metadata": {},
   "source": [
    "# tf.gradients - why graphs matter\n",
    "* Tensorflow can compute derivatives and gradients automatically using the computation graph\n",
    "* Gradients are computed as a product of elementary derivatives via chain rule:\n",
    "\n",
    "$$ {\\partial f(g(x)) \\over \\partial x} = {\\partial f(g(x)) \\over \\partial g(x)}\\cdot {\\partial g(x) \\over \\partial x} $$\n",
    "\n",
    "It can get you the derivative of any graph as long as it knows how to differentiate elementary operations"
   ]
  },
  {
   "cell_type": "code",
   "execution_count": 21,
   "metadata": {},
   "outputs": [
    {
     "name": "stderr",
     "output_type": "stream",
     "text": [
      "W0822 14:45:14.651517 140182036207360 deprecation.py:323] From /opt/conda/lib/python3.6/site-packages/tensorflow/python/ops/math_grad.py:1205: add_dispatch_support.<locals>.wrapper (from tensorflow.python.ops.array_ops) is deprecated and will be removed in a future version.\n",
      "Instructions for updating:\n",
      "Use tf.where in 2.0, which has the same broadcast rule as np.where\n"
     ]
    }
   ],
   "source": [
    "my_scalar = tf.placeholder('float32')\n",
    "\n",
    "scalar_squared = my_scalar**2\n",
    "\n",
    "#a derivative of scalar_squared by my_scalar\n",
    "derivative = tf.gradients(scalar_squared, my_scalar)[0]"
   ]
  },
  {
   "cell_type": "code",
   "execution_count": 22,
   "metadata": {},
   "outputs": [
    {
     "data": {
      "image/png": "[encoded data removed]",
      "text/plain": [
       "<Figure size 432x288 with 1 Axes>"
      ]
     },
     "metadata": {},
     "output_type": "display_data"
    }
   ],
   "source": [
    "import matplotlib.pyplot as plt\n",
    "%matplotlib inline\n",
    "\n",
    "x = np.linspace(-3,3)\n",
    "x_squared, x_squared_der = s.run([scalar_squared,derivative],\n",
    "                                 {my_scalar:x})\n",
    "\n",
    "plt.plot(x, x_squared,label=\"x^2\")\n",
    "plt.plot(x, x_squared_der, label=\"derivative\")\n",
    "plt.legend();"
   ]
  },
  {
   "cell_type": "markdown",
   "metadata": {},
   "source": [
    "# Why that rocks"
   ]
  },
  {
   "cell_type": "code",
   "execution_count": 24,
   "metadata": {},
   "outputs": [],
   "source": [
    "my_vector = tf.placeholder('float32',[None])\n",
    "\n",
    "#Compute the gradient of the next weird function over my_scalar and my_vector\n",
    "#warning! Trying to understand the meaning of that function may result in permanent brain damage\n",
    "\n",
    "weird_psychotic_function = tf.reduce_mean((my_vector+my_scalar)**(1+tf.nn.moments(my_vector,[0])[1]) + 1./ tf.atan(my_scalar))/(my_scalar**2 + 1) + 0.01*tf.sin(2*my_scalar**1.5)*(tf.reduce_sum(my_vector)* my_scalar**2)*tf.exp((my_scalar-4)**2)/(1+tf.exp((my_scalar-4)**2))*(1.-(tf.exp(-(my_scalar-4)**2))/(1+tf.exp(-(my_scalar-4)**2)))**2\n",
    "\n",
    "der_by_scalar = tf.gradients(weird_psychotic_function, my_scalar)[0]\n",
    "der_by_vector = tf.gradients(weird_psychotic_function, my_vector)[0]"
   ]
  },
  {
   "cell_type": "code",
   "execution_count": 25,
   "metadata": {},
   "outputs": [
    {
     "data": {
      "image/png": "[encoded data removed]",
      "text/plain": [
       "<Figure size 432x288 with 1 Axes>"
      ]
     },
     "metadata": {},
     "output_type": "display_data"
    }
   ],
   "source": [
    "#Plotting your derivative\n",
    "scalar_space = np.linspace(1, 7, 100)\n",
    "\n",
    "y = [s.run(weird_psychotic_function, {my_scalar:x, my_vector:[1, 2, 3]})\n",
    "     for x in scalar_space]\n",
    "\n",
    "plt.plot(scalar_space, y, label='function')\n",
    "\n",
    "y_der_by_scalar = [s.run(der_by_scalar, {my_scalar:x, my_vector:[1, 2, 3]})\n",
    "     for x in scalar_space]\n",
    "\n",
    "plt.plot(scalar_space, y_der_by_scalar, label='derivative')\n",
    "plt.grid()\n",
    "plt.legend();"
   ]
  },
  {
   "cell_type": "markdown",
   "metadata": {},
   "source": [
    "# Almost done - optimizers\n",
    "\n",
    "While you can perform gradient descent by hand with automatic grads from above, tensorflow also has some optimization methods implemented for you. Recall momentum & rmsprop?"
   ]
  },
  {
   "cell_type": "code",
   "execution_count": 26,
   "metadata": {
    "collapsed": true
   },
   "outputs": [],
   "source": [
    "y_guess = tf.Variable(np.zeros(2,dtype='float32'))\n",
    "y_true = tf.range(1,3,dtype='float32')\n",
    "\n",
    "loss = tf.reduce_mean((y_guess - y_true + tf.random_normal([2]))**2) \n",
    "\n",
    "optimizer = tf.train.MomentumOptimizer(0.01,0.9).minimize(loss,var_list=y_guess)\n",
    "\n",
    "#same, but more detailed:\n",
    "#updates = [[tf.gradients(loss,y_guess)[0], y_guess]]\n",
    "#optimizer = tf.train.MomentumOptimizer(0.01,0.9).apply_gradients(updates)"
   ]
  },
  {
   "cell_type": "code",
   "execution_count": 31,
   "metadata": {},
   "outputs": [
    {
     "data": {
      "image/png": "[encoded data removed]",
      "text/plain": [
       "<Figure size 432x288 with 1 Axes>"
      ]
     },
     "metadata": {},
     "output_type": "display_data"
    }
   ],
   "source": [
    "from IPython.display import clear_output\n",
    "\n",
    "s.run(tf.global_variables_initializer())\n",
    "\n",
    "guesses = [s.run(y_guess)]\n",
    "\n",
    "for _ in range(100):\n",
    "    s.run(optimizer)\n",
    "    guesses.append(s.run(y_guess))\n",
    "    \n",
    "    clear_output(True)\n",
    "    plt.plot(*zip(*guesses),marker='.')\n",
    "    plt.scatter(*s.run(y_true),c='red')\n",
    "    plt.show()"
   ]
  },
  {
   "cell_type": "markdown",
   "metadata": {},
   "source": [
    "# Logistic regression example\n",
    "Implement the regular logistic regression training algorithm\n",
    "\n",
    "Tips:\n",
    "* Use a shared variable for weights\n",
    "* X and y are potential inputs\n",
    "* Compile 2 functions:\n",
    " * `train_function(X, y)` - returns error and computes weights' new values __(through updates)__\n",
    " * `predict_fun(X)` - just computes probabilities (\"y\") given data\n",
    " \n",
    " \n",
    "We shall train on a two-class MNIST dataset\n",
    "* please note that target `y` are `{0,1}` and not `{-1,1}` as in some formulae"
   ]
  },
  {
   "cell_type": "code",
   "execution_count": 32,
   "metadata": {},
   "outputs": [
    {
     "name": "stdout",
     "output_type": "stream",
     "text": [
      "y [shape - (360,)]: [0 1 0 1 0 1 0 0 1 1]\n",
      "X [shape - (360, 64)]:\n"
     ]
    }
   ],
   "source": [
    "from sklearn.datasets import load_digits\n",
    "mnist = load_digits(2)\n",
    "\n",
    "X,y = mnist.data, mnist.target\n",
    "\n",
    "print(\"y [shape - %s]:\" % (str(y.shape)), y[:10])\n",
    "print(\"X [shape - %s]:\" % (str(X.shape)))"
   ]
  },
  {
   "cell_type": "code",
   "execution_count": 33,
   "metadata": {},
   "outputs": [
    {
     "name": "stdout",
     "output_type": "stream",
     "text": [
      "X:\n",
      " [[ 0.  0.  5. 13.  9.  1.  0.  0.  0.  0.]\n",
      " [ 0.  0.  0. 12. 13.  5.  0.  0.  0.  0.]\n",
      " [ 0.  0.  1.  9. 15. 11.  0.  0.  0.  0.]]\n",
      "y:\n",
      " [0 1 0 1 0 1 0 0 1 1]\n"
     ]
    },
    {
     "data": {
      "text/plain": [
       "<matplotlib.image.AxesImage at 0x7f7db4dc25c0>"
      ]
     },
     "execution_count": 33,
     "metadata": {},
     "output_type": "execute_result"
    },
    {
     "data": {
      "image/png": "[encoded data removed]",
      "text/plain": [
       "<Figure size 432x288 with 1 Axes>"
      ]
     },
     "metadata": {},
     "output_type": "display_data"
    }
   ],
   "source": [
    "print('X:\\n',X[:3,:10])\n",
    "print('y:\\n',y[:10])\n",
    "plt.imshow(X[0].reshape([8,8]))"
   ]
  },
  {
   "cell_type": "code",
   "execution_count": 35,
   "metadata": {},
   "outputs": [],
   "source": [
    "# inputs and shareds\n",
    "weights = tf.Variable(initial_value=np.zeros([64, 2]), dtype='float32')\n",
    "input_X = tf.placeholder('float32',shape=(None, 64))\n",
    "input_y = tf.placeholder('uint8', shape=(None,))"
   ]
  },
  {
   "cell_type": "code",
   "execution_count": 37,
   "metadata": {},
   "outputs": [],
   "source": [
    "predicted_y = tf.nn.softmax(tf.matmul(input_X, weights))\n",
    "\n",
    "predictions = tf.argmax(predicted_y, axis=1)\n",
    "y_onehot = tf.one_hot(input_y, 2, dtype='float32')\n",
    "loss = tf.reduce_mean(y_onehot * tf.log(predicted_y + 1e-10))\n",
    "\n",
    "optimizer = tf.train.GradientDescentOptimizer(0.01).minimize(loss)"
   ]
  },
  {
   "cell_type": "code",
   "execution_count": 39,
   "metadata": {},
   "outputs": [],
   "source": [
    "# train_function = <compile function that takes X and y, returns log loss and updates weights>\n",
    "# predict_function = <compile function that takes X and computes probabilities of y>"
   ]
  },
  {
   "cell_type": "code",
   "execution_count": 52,
   "metadata": {
    "collapsed": true
   },
   "outputs": [],
   "source": [
    "from sklearn.utils import shuffle\n",
    "\n",
    "def train_function(X, y):\n",
    "    num_samples = X.shape[0]\n",
    "    batch_size = 20\n",
    "    X, y = shuffle(X, y)\n",
    "    \n",
    "    losses = []\n",
    "    for i in range(0, num_samples, batch_size):\n",
    "        end = min(i + batch_size, num_samples)\n",
    "        #print(i, end)\n",
    "        batch_xs, batch_ys = X[i:end], y[i:end]\n",
    "        # Run optimization op (backprop) and cost op (to get loss value)\n",
    "        _, l = sess.run([optimizer, loss], feed_dict={input_X: batch_xs, input_y: batch_ys})\n",
    "        losses.append(l)\n",
    "        #print(l)\n",
    "        \n",
    "    return np.mean(losses)\n",
    "\n",
    "def predict_function(X):\n",
    "    preds = sess.run([predictions], feed_dict={input_X: X})\n",
    "    #print(type(preds))\n",
    "    return(np.array(preds).reshape(-1,))"
   ]
  },
  {
   "cell_type": "code",
   "execution_count": 53,
   "metadata": {},
   "outputs": [
    {
     "name": "stdout",
     "output_type": "stream",
     "text": [
      "-5.146114\n",
      "-5.81845\n",
      "-5.8195753\n",
      "-5.8199053\n",
      "-5.820042\n",
      "-5.8201213\n",
      "-5.820172\n",
      "-5.820206\n",
      "-5.8202376\n",
      "-5.820258\n",
      "Optimization Finished!\n"
     ]
    }
   ],
   "source": [
    "# Initialize the variables (i.e. assign their default value)\n",
    "init = tf.global_variables_initializer()\n",
    "\n",
    "# Start training\n",
    "with tf.Session() as sess:\n",
    "    # Run the initializer\n",
    "    sess.run(init)\n",
    "\n",
    "    # Training cycle\n",
    "    for epoch in range(10):\n",
    "        # Loop over all batches\n",
    "        mean_loss = train_function(X, y)\n",
    "        print(mean_loss)\n",
    "\n",
    "print(\"Optimization Finished!\")"
   ]
  },
  {
   "cell_type": "code",
   "execution_count": 54,
   "metadata": {
    "collapsed": true
   },
   "outputs": [],
   "source": [
    "from sklearn.model_selection import train_test_split\n",
    "X_train, X_test, y_train, y_test = train_test_split(X, y)"
   ]
  },
  {
   "cell_type": "code",
   "execution_count": 56,
   "metadata": {},
   "outputs": [
    {
     "name": "stdout",
     "output_type": "stream",
     "text": [
      "loss at iter 0:-7.4255\n",
      "train auc: 0.0\n",
      "test auc: 0.0\n",
      "loss at iter 1:-11.0205\n",
      "train auc: 0.0\n",
      "test auc: 0.0\n",
      "loss at iter 2:-11.2179\n",
      "train auc: 0.0\n",
      "test auc: 0.0\n",
      "loss at iter 3:-11.2888\n",
      "train auc: 0.0\n",
      "test auc: 0.0\n",
      "loss at iter 4:-11.2961\n",
      "train auc: 0.0\n",
      "test auc: 0.0\n",
      "resulting weights:\n",
      "[[ 0.00000000e+00  0.00000000e+00]\n",
      " [-1.19467813e-03  1.19467813e-03]\n",
      " [-2.13236231e-02  2.13236231e-02]\n",
      " [-1.16949409e-01  1.16949394e-01]\n",
      " [ 1.41693698e-02 -1.41693717e-02]\n",
      " [ 2.05447301e-01 -2.05447301e-01]\n",
      " [ 5.26485369e-02 -5.26485369e-02]\n",
      " [ 0.00000000e+00  0.00000000e+00]\n",
      " [ 0.00000000e+00  0.00000000e+00]\n",
      " [-1.45390863e-02  1.45390863e-02]\n",
      " [-1.30383655e-01  1.30383655e-01]\n",
      " [-1.49738789e-02  1.49738798e-02]\n",
      " [ 8.61450508e-02 -8.61450583e-02]\n",
      " [ 7.15370337e-03 -7.15370337e-03]\n",
      " [ 3.45321819e-02 -3.45321819e-02]\n",
      " [ 0.00000000e+00  0.00000000e+00]\n",
      " [ 2.99591129e-03 -2.99591152e-03]\n",
      " [ 1.18705723e-02 -1.18705770e-02]\n",
      " [-6.74372688e-02  6.74372762e-02]\n",
      " [ 2.49753818e-01 -2.49753818e-01]\n",
      " [ 3.10293257e-01 -3.10293257e-01]\n",
      " [-8.80775824e-02  8.80775824e-02]\n",
      " [-2.69021224e-02  2.69021224e-02]\n",
      " [ 0.00000000e+00  0.00000000e+00]\n",
      " [ 1.49795564e-03 -1.49795576e-03]\n",
      " [-3.65896523e-02  3.65896523e-02]\n",
      " [-4.87683788e-02  4.87683639e-02]\n",
      " [ 2.58733898e-01 -2.58733898e-01]\n",
      " [ 3.41691434e-01 -3.41691405e-01]\n",
      " [-3.65175828e-02  3.65175679e-02]\n",
      " [-1.21742658e-01  1.21742658e-01]\n",
      " [ 0.00000000e+00  0.00000000e+00]\n",
      " [ 0.00000000e+00  0.00000000e+00]\n",
      " [-1.00063518e-01  1.00063518e-01]\n",
      " [-1.44365937e-01  1.44365937e-01]\n",
      " [ 2.35465601e-01 -2.35465601e-01]\n",
      " [ 3.31184089e-01 -3.31184089e-01]\n",
      " [-3.27268988e-02  3.27268913e-02]\n",
      " [-1.51936531e-01  1.51936531e-01]\n",
      " [ 0.00000000e+00  0.00000000e+00]\n",
      " [ 0.00000000e+00  0.00000000e+00]\n",
      " [-6.80697560e-02  6.80697486e-02]\n",
      " [-2.30690435e-01  2.30690449e-01]\n",
      " [ 1.87733978e-01 -1.87733978e-01]\n",
      " [ 2.70346344e-01 -2.70346344e-01]\n",
      " [-9.55836698e-02  9.55836698e-02]\n",
      " [-1.33255690e-01  1.33255690e-01]\n",
      " [ 0.00000000e+00  0.00000000e+00]\n",
      " [ 0.00000000e+00  0.00000000e+00]\n",
      " [-1.66418031e-02  1.66418012e-02]\n",
      " [-1.88603565e-01  1.88603565e-01]\n",
      " [-4.25212272e-02  4.25212197e-02]\n",
      " [ 4.56249155e-02 -4.56249155e-02]\n",
      " [-8.78475904e-02  8.78475904e-02]\n",
      " [ 1.66321415e-02 -1.66321434e-02]\n",
      " [ 1.82473455e-02 -1.82473455e-02]\n",
      " [ 0.00000000e+00  0.00000000e+00]\n",
      " [-2.83788337e-04  2.83788337e-04]\n",
      " [-3.08169033e-02  3.08168996e-02]\n",
      " [-1.23386718e-01  1.23386718e-01]\n",
      " [ 8.06845445e-03 -8.06845538e-03]\n",
      " [ 1.45649225e-01 -1.45649225e-01]\n",
      " [ 9.61519778e-02 -9.61519778e-02]\n",
      " [ 3.96385603e-02 -3.96385603e-02]]\n"
     ]
    },
    {
     "data": {
      "image/png": "[encoded data removed]",
      "text/plain": [
       "<Figure size 432x288 with 2 Axes>"
      ]
     },
     "metadata": {},
     "output_type": "display_data"
    }
   ],
   "source": [
    "from sklearn.metrics import roc_auc_score\n",
    "\n",
    "init = tf.global_variables_initializer()\n",
    "\n",
    "with tf.Session() as sess:\n",
    "    sess.run(init)\n",
    "\n",
    "    for i in range(5):\n",
    "        #<run optimizer operation>\n",
    "        loss_i = train_function(X_train, y_train)\n",
    "\n",
    "        print(\"loss at iter %i:%.4f\" % (i, loss_i))\n",
    "\n",
    "        print(\"train auc:\",roc_auc_score(y_train, predict_function(X_train)))\n",
    "        print(\"test auc:\",roc_auc_score(y_test, predict_function(X_test)))\n",
    "\n",
    "    \n",
    "    print (\"resulting weights:\")\n",
    "    #weights.\n",
    "    print(sess.run(weights))\n",
    "    plt.imshow(sess.run(weights).reshape(8, -1))\n",
    "    plt.colorbar();"
   ]
  },
  {
   "cell_type": "markdown",
   "metadata": {},
   "source": [
    "# Bonus: my1stNN\n",
    "Your ultimate task for this week is to build your first neural network [almost] from scratch and pure tensorflow.\n",
    "\n",
    "This time you will same digit recognition problem, but at a larger scale\n",
    "* images are now 28x28\n",
    "* 10 different digits\n",
    "* 50k samples\n",
    "\n",
    "Note that you are not required to build 152-layer monsters here. A 2-layer (one hidden, one output) NN should already have ive you an edge over logistic regression.\n",
    "\n",
    "__[bonus score]__\n",
    "If you've already beaten logistic regression with a two-layer net, but enthusiasm still ain't gone, you can try improving the test accuracy even further! The milestones would be 95%/97.5%/98.5% accuraсy on test set.\n",
    "\n",
    "__SPOILER!__\n",
    "At the end of the notebook you will find a few tips and frequently made mistakes. If you feel enough might to shoot yourself in the foot without external assistance, we encourage you to do so, but if you encounter any unsurpassable issues, please do look there before mailing us."
   ]
  },
  {
   "cell_type": "code",
   "execution_count": 60,
   "metadata": {},
   "outputs": [
    {
     "name": "stdout",
     "output_type": "stream",
     "text": [
      "(50000, 28, 28) (50000,)\n"
     ]
    }
   ],
   "source": [
    "from mnist import load_dataset\n",
    "\n",
    "#[down]loading the original MNIST dataset.\n",
    "#Please note that you should only train your NN on _train sample,\n",
    "# _val can be used to evaluate out-of-sample error, compare models or perform early-stopping\n",
    "# _test should be hidden under a rock untill final evaluation... But we both know it is near impossible to catch you evaluating on it.\n",
    "X_train,y_train,X_val,y_val,X_test,y_test = load_dataset()\n",
    "\n",
    "print (X_train.shape,y_train.shape)"
   ]
  },
  {
   "cell_type": "code",
   "execution_count": 64,
   "metadata": {},
   "outputs": [
    {
     "name": "stdout",
     "output_type": "stream",
     "text": [
      "(50000, 784)\n",
      "(10000, 784)\n",
      "(10000, 784)\n",
      "[[ 0.01888688  0.00746699  0.00523406]\n",
      " [-0.0012564   0.00315321 -0.00343055]]\n",
      "Tensor(\"Placeholder_14:0\", shape=(?, 784), dtype=float32)\n",
      "Tensor(\"Placeholder_15:0\", shape=(?,), dtype=uint8)\n",
      "<tf.Variable 'Variable_9:0' shape=(784, 10) dtype=float32_ref>\n",
      "<tf.Variable 'Variable_3:0' shape=(784, 200) dtype=float32_ref>\n",
      "<tf.Variable 'Variable_4:0' shape=(200,) dtype=float32_ref>\n",
      "<tf.Variable 'Variable_5:0' shape=(200, 200) dtype=float32_ref>\n",
      "<tf.Variable 'Variable_6:0' shape=(200,) dtype=float32_ref>\n",
      "<tf.Variable 'Variable_7:0' shape=(200, 10) dtype=float32_ref>\n",
      "<tf.Variable 'Variable_8:0' shape=(10,) dtype=float32_ref>\n"
     ]
    }
   ],
   "source": [
    "#plt.imshow(X_train[0,0])\n",
    "\n",
    "def flatten(X):\n",
    "    return X.reshape([X.shape[0], X.shape[1] * X.shape[2]])\n",
    "\n",
    "X_train = flatten(X_train)\n",
    "X_val = flatten(X_val)\n",
    "X_test = flatten(X_test)\n",
    "\n",
    "print(X_train.shape)\n",
    "print(X_val.shape)\n",
    "print(X_test.shape)\n",
    "\n",
    "n_labels = 10\n",
    "n_pixels = 28 * 28 \n",
    "n_neurons = 200\n",
    "\n",
    "pipo = 0.01 * np.random.randn(2,3)\n",
    "print(pipo)\n",
    "\n",
    "sigma = 0.001\n",
    "sigma = 1e-6\n",
    "\n",
    "W1 = tf.Variable(initial_value = np.sqrt(1 / n_pixels) * np.random.randn(n_pixels, n_neurons), dtype='float32')\n",
    "b1 = tf.Variable(initial_value = np.zeros([n_neurons]), dtype='float32')\n",
    "\n",
    "W2 = tf.Variable(initial_value = np.sqrt(1 / n_neurons) * np.random.randn(n_neurons, n_neurons), dtype='float32')\n",
    "b2 = tf.Variable(initial_value = np.zeros([n_neurons]), dtype='float32')\n",
    "\n",
    "W = tf.Variable(initial_value = np.zeros([n_neurons, n_labels]), dtype='float32')\n",
    "b = tf.Variable(initial_value = np.zeros([n_labels]), dtype='float32')\n",
    "\n",
    "weights = tf.Variable(initial_value=np.zeros([n_pixels, n_labels]), dtype='float32')\n",
    "biases = tf.Variable(initial_value=np.zeros([n_labels]), dtype='float32')\n",
    "\n",
    "input_X = tf.placeholder('float32',shape=(None, n_pixels))\n",
    "input_y = tf.placeholder('uint8', shape=(None,))\n",
    "\n",
    "print(input_X)\n",
    "print(input_y)\n",
    "print(weights)\n",
    "\n",
    "print(W1)\n",
    "print(b1)\n",
    "print(W2)\n",
    "print(b2)\n",
    "print(W)\n",
    "print(b)"
   ]
  },
  {
   "cell_type": "code",
   "execution_count": 65,
   "metadata": {},
   "outputs": [
    {
     "name": "stdout",
     "output_type": "stream",
     "text": [
      "Tensor(\"Softmax_1:0\", shape=(?, 10), dtype=float32)\n",
      "Tensor(\"ArgMax_1:0\", shape=(?,), dtype=int64)\n"
     ]
    }
   ],
   "source": [
    "# <here you could just as well create computation graph>\n",
    "\n",
    "predicted_y = tf.nn.softmax(tf.matmul(input_X, weights) + biases)\n",
    "print(predicted_y)\n",
    "predictions = tf.argmax(predicted_y, axis=1)\n",
    "print(predictions)"
   ]
  },
  {
   "cell_type": "code",
   "execution_count": 68,
   "metadata": {},
   "outputs": [
    {
     "name": "stdout",
     "output_type": "stream",
     "text": [
      "Tensor(\"one_hot_2:0\", shape=(?, 10), dtype=float32)\n",
      "Tensor(\"Neg_4:0\", shape=(), dtype=float32)\n",
      "name: \"Adam_1\"\n",
      "op: \"NoOp\"\n",
      "input: \"^Adam_1/update_Variable_9/ApplyAdam\"\n",
      "input: \"^Adam_1/update_Variable_10/ApplyAdam\"\n",
      "input: \"^Adam_1/Assign\"\n",
      "input: \"^Adam_1/Assign_1\"\n",
      "\n",
      "Tensor(\"Softmax_3:0\", shape=(?, 10), dtype=float32)\n",
      "Tensor(\"ArgMax_3:0\", shape=(?,), dtype=int64)\n",
      "Tensor(\"add_24:0\", shape=(), dtype=float32)\n",
      "name: \"Momentum_2\"\n",
      "op: \"NoOp\"\n",
      "input: \"^Momentum_2/update_Variable_3/ApplyMomentum\"\n",
      "input: \"^Momentum_2/update_Variable_4/ApplyMomentum\"\n",
      "input: \"^Momentum_2/update_Variable_5/ApplyMomentum\"\n",
      "input: \"^Momentum_2/update_Variable_6/ApplyMomentum\"\n",
      "input: \"^Momentum_2/update_Variable_7/ApplyMomentum\"\n",
      "input: \"^Momentum_2/update_Variable_8/ApplyMomentum\"\n",
      "\n"
     ]
    }
   ],
   "source": [
    "# <this may or may not be a good place to evaluating loss and optimizer>\n",
    "\n",
    "y_onehot = tf.one_hot(input_y, n_labels, dtype='float32')\n",
    "print(y_onehot)\n",
    "\n",
    "loss = - tf.reduce_mean(y_onehot * tf.log(predicted_y + 1e-10))\n",
    "print(loss)\n",
    "\n",
    "optimizer = tf.train.AdamOptimizer(0.001).minimize(loss)\n",
    "print(optimizer)\n",
    "\n",
    "z1 = tf.matmul(input_X, W1) + b1\n",
    "z2 = tf.sigmoid(z1)\n",
    "\n",
    "z3 = tf.matmul(z2, W2) + b2\n",
    "z4 = tf.sigmoid(z3)\n",
    "\n",
    "nn_predicted_y = tf.nn.softmax(tf.matmul(z4, W) + b)\n",
    "print(nn_predicted_y)\n",
    "\n",
    "nn_predictions = tf.argmax(nn_predicted_y, axis=1)\n",
    "print(nn_predictions)\n",
    "\n",
    "nn_loss = - tf.reduce_mean(y_onehot * tf.log(nn_predicted_y + 1e-10))\n",
    "\n",
    "# L2 regularization \n",
    "reg = tf.nn.l2_loss(W1) + tf.nn.l2_loss(W2)\n",
    "nn_loss = nn_loss + 1e-5 * reg\n",
    "\n",
    "print(nn_loss)\n",
    "\n",
    "nn_optimizer = tf.train.MomentumOptimizer(0.2, 0.95).minimize(nn_loss)\n",
    "\n",
    "print(nn_optimizer)"
   ]
  },
  {
   "cell_type": "code",
   "execution_count": 69,
   "metadata": {},
   "outputs": [],
   "source": [
    "# <this may be a perfect cell to write a training&evaluation loop in>\n",
    "\n",
    "from sklearn.utils import shuffle\n",
    "\n",
    "def train_function(X, y):\n",
    "    num_samples = X.shape[0]\n",
    "    batch_size = 20\n",
    "    X, y = shuffle(X, y)\n",
    "    \n",
    "    losses = []\n",
    "    for i in range(0, num_samples, batch_size):\n",
    "        end = min(i + batch_size, num_samples)\n",
    "        #print(i, end)\n",
    "        batch_xs, batch_ys = X[i:end], y[i:end]\n",
    "        # Run optimization op (backprop) and cost op (to get loss value)\n",
    "        _, l = sess.run([optimizer, loss], feed_dict={input_X: batch_xs, input_y: batch_ys})\n",
    "        losses.append(l)\n",
    "        #print(l)\n",
    "        \n",
    "    return np.mean(losses)\n",
    "\n",
    "\n",
    "def predict_function(X):\n",
    "    preds = sess.run([predictions], feed_dict={input_X: X})\n",
    "    #print(type(preds))\n",
    "    return(np.array(preds).reshape(-1,))\n",
    "\n",
    "def nn_train_function(X, y):\n",
    "    num_samples = X.shape[0]\n",
    "    batch_size = 256\n",
    "    X, y = shuffle(X, y)\n",
    "    \n",
    "    losses = []\n",
    "    for i in range(0, num_samples, batch_size):\n",
    "        end = min(i + batch_size, num_samples)\n",
    "        #print(i, end)\n",
    "        batch_xs, batch_ys = X[i:end], y[i:end]\n",
    "        # Run optimization op (backprop) and cost op (to get loss value)\n",
    "        _, l = sess.run([nn_optimizer, nn_loss], feed_dict={input_X: batch_xs, input_y: batch_ys})\n",
    "        losses.append(l)\n",
    "        #print(l)\n",
    "        \n",
    "    return np.mean(losses)\n",
    "\n",
    "\n",
    "def nn_predict_function(X):\n",
    "    preds = sess.run([nn_predictions], feed_dict={input_X: X})\n",
    "    #print(type(preds))\n",
    "    return(np.array(preds).reshape(-1,))"
   ]
  },
  {
   "cell_type": "code",
   "execution_count": 70,
   "metadata": {},
   "outputs": [
    {
     "name": "stdout",
     "output_type": "stream",
     "text": [
      "\n",
      "loss at iter 0: 0.0453\n",
      "train accuracy:  0.91012\n",
      "val accuracy:  0.9166\n",
      "\n",
      "loss at iter 1: 0.0305\n",
      "train accuracy:  0.92034\n",
      "val accuracy:  0.9238\n",
      "\n",
      "loss at iter 2: 0.0286\n",
      "train accuracy:  0.92392\n",
      "val accuracy:  0.9265\n",
      "\n",
      "loss at iter 3: 0.0276\n",
      "train accuracy:  0.92708\n",
      "val accuracy:  0.9288\n",
      "\n",
      "loss at iter 4: 0.0269\n",
      "train accuracy:  0.92768\n",
      "val accuracy:  0.9289\n",
      "\n",
      "TEST ACCURACY:  0.9252\n"
     ]
    }
   ],
   "source": [
    "# <predict & evaluate on test here, right? No cheating pls.>\n",
    "\n",
    "init = tf.global_variables_initializer()\n",
    "\n",
    "with tf.Session() as sess:\n",
    "    sess.run(init)\n",
    "\n",
    "    for i in range(5):\n",
    "        # <run optimizer operation>\n",
    "        loss_i = train_function(X_train, y_train)\n",
    "\n",
    "        print(\"\\nloss at iter %i: %.4f\" % (i, loss_i))\n",
    "        \n",
    "        preds = predict_function(X_train)\n",
    "        train_acc = np.sum(y_train == preds) / len(preds)\n",
    "        print(\"train accuracy: \", train_acc)\n",
    "        \n",
    "        preds = predict_function(X_val)\n",
    "        val_acc = np.sum(y_val == preds) / len(preds)\n",
    "        print(\"val accuracy: \", val_acc)\n",
    "        \n",
    "    preds = predict_function(X_test)\n",
    "    test_acc = np.sum(y_test == preds) / len(preds)\n",
    "    print(\"\\nTEST ACCURACY: \", test_acc)"
   ]
  },
  {
   "cell_type": "code",
   "execution_count": 71,
   "metadata": {
    "collapsed": true
   },
   "outputs": [],
   "source": [
    "# Do it again for 100 iterations if you really want - gets about 98% accuracy done\n",
    "\n",
    "# init = tf.global_variables_initializer()\n",
    "\n",
    "# with tf.Session() as sess:\n",
    "#     sess.run(init)\n",
    "\n",
    "#     for i in range(100):\n",
    "#         # <run optimizer operation>\n",
    "#         loss_i = train_function(X_train, y_train)\n",
    "\n",
    "#         print(\"\\nloss at iter %i: %.4f\" % (i, loss_i))\n",
    "        \n",
    "#         preds = predict_function(X_train)\n",
    "#         train_acc = np.sum(y_train == preds) / len(preds)\n",
    "#         print(\"train accuracy: \", train_acc)\n",
    "        \n",
    "#         preds = predict_function(X_val)\n",
    "#         val_acc = np.sum(y_val == preds) / len(preds)\n",
    "#         print(\"val accuracy: \", val_acc)\n",
    "        \n",
    "#     preds = predict_function(X_test)\n",
    "#     test_acc = np.sum(y_test == preds) / len(preds)\n",
    "#     print(\"\\nTEST ACCURACY: \", test_acc)"
   ]
  },
  {
   "cell_type": "markdown",
   "metadata": {},
   "source": [
    "```\n",
    "\n",
    "```\n",
    "\n",
    "```\n",
    "\n",
    "```\n",
    "\n",
    "```\n",
    "\n",
    "```\n",
    "\n",
    "```\n",
    "\n",
    "```\n",
    "\n",
    "```\n",
    "\n",
    "```\n",
    "\n",
    "```\n",
    "\n",
    "```\n",
    "\n",
    "```\n",
    "\n",
    "```\n",
    "\n",
    "```\n",
    "\n",
    "```\n",
    "\n",
    "\n",
    "# SPOILERS!\n",
    "\n",
    "Recommended pipeline\n",
    "\n",
    "* Adapt logistic regression from previous assignment to classify some number against others (e.g. zero vs nonzero)\n",
    "* Generalize it to multiclass logistic regression.\n",
    "  - Either try to remember lecture 0 or google it.\n",
    "  - Instead of weight vector you'll have to use matrix (feature_id x class_id)\n",
    "  - softmax (exp over sum of exps) can implemented manually or as T.nnet.softmax (stable)\n",
    "  - probably better to use STOCHASTIC gradient descent (minibatch)\n",
    "    - in which case sample should probably be shuffled (or use random subsamples on each iteration)\n",
    "* Add a hidden layer. Now your logistic regression uses hidden neurons instead of inputs.\n",
    "  - Hidden layer uses the same math as output layer (ex-logistic regression), but uses some nonlinearity (sigmoid) instead of softmax\n",
    "  - You need to train both layers, not just output layer :)\n",
    "  - Do not initialize layers with zeros (due to symmetry effects). A gaussian noize with small sigma will do.\n",
    "  - 50 hidden neurons and a sigmoid nonlinearity will do for a start. Many ways to improve. \n",
    "  - In ideal casae this totals to 2 .dot's, 1 softmax and 1 sigmoid\n",
    "  - __make sure this neural network works better than logistic regression__\n",
    "  \n",
    "* Now's the time to try improving the network. Consider layers (size, neuron count),  nonlinearities, optimization methods, initialization - whatever you want, but please avoid convolutions for now."
   ]
  }
 ],
 "metadata": {
  "celltoolbar": "Slideshow",
  "kernelspec": {
   "display_name": "Python 3",
   "language": "python",
   "name": "python3"
  },
  "language_info": {
   "codemirror_mode": {
    "name": "ipython",
    "version": 3
   },
   "file_extension": ".py",
   "mimetype": "text/x-python",
   "name": "python",
   "nbconvert_exporter": "python",
   "pygments_lexer": "ipython3",
   "version": "3.6.2"
  }
 },
 "nbformat": 4,
 "nbformat_minor": 1
}
